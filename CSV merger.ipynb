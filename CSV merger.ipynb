{
 "cells": [
  {
   "cell_type": "code",
   "execution_count": null,
   "id": "f5b929a1",
   "metadata": {},
   "outputs": [],
   "source": [
    "import pandas as pd\n",
    "from functools import reduce\n",
    "import glob\n",
    "\n",
    "# Get a list of Enrichment files starting with \"T\"\n",
    "e_files = glob.glob(\"T*.csv\")"
   ]
  },
  {
   "cell_type": "code",
   "execution_count": null,
   "id": "1b5040da",
   "metadata": {},
   "outputs": [],
   "source": [
    "# Read each file into a pandas dataframe\n",
    "e_dfs = []\n",
    "for filename in e_files:\n",
    "    df = pd.read_csv(filename,index_col=[\"Biol.Rep\",\"Tracer\",\"GroupLevel1\"]) #Multi index with 3 levels\n",
    "    e_dfs.append(df)"
   ]
  },
  {
   "cell_type": "code",
   "execution_count": null,
   "id": "8249c678",
   "metadata": {},
   "outputs": [],
   "source": [
    "e_dfs[0].head() # To check the dataframe (change value depending on the number of files)"
   ]
  },
  {
   "cell_type": "markdown",
   "id": "67686d17",
   "metadata": {},
   "source": [
    "### In this case, I have 3 dfs inside e_dfs (can be more), which is needed to be combined into a single df. It should satisfy the following conditions in the combined df:\n",
    "#### 1. No duplicates in rows (indices) as well as column names.\n",
    "#### 2. If there exist(s) a same column name in 2 or more dataframes with same index, then duplicate the column with new suffixes."
   ]
  },
  {
   "cell_type": "code",
   "execution_count": null,
   "id": "b793f3b3",
   "metadata": {},
   "outputs": [],
   "source": [
    "#Merging the dataframes\n",
    "combined_df = reduce(lambda left, right: pd.merge(left, right, left_index=True, right_index=True,how=\"inner\"), e_dfs)\n",
    "combined_df"
   ]
  }
 ],
 "metadata": {
  "kernelspec": {
   "display_name": "Python 3 (ipykernel)",
   "language": "python",
   "name": "python3"
  },
  "language_info": {
   "codemirror_mode": {
    "name": "ipython",
    "version": 3
   },
   "file_extension": ".py",
   "mimetype": "text/x-python",
   "name": "python",
   "nbconvert_exporter": "python",
   "pygments_lexer": "ipython3",
   "version": "3.8.12"
  }
 },
 "nbformat": 4,
 "nbformat_minor": 5
}
